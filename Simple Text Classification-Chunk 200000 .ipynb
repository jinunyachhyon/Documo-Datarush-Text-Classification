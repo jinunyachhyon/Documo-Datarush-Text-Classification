{
 "cells": [
  {
   "cell_type": "code",
   "execution_count": 1,
   "id": "5cc8dcb9",
   "metadata": {},
   "outputs": [
    {
     "name": "stdout",
     "output_type": "stream",
     "text": [
      "(200000, 6)\n",
      "==================================================================\n",
      "   Unnamed: 0      id  category  category_num  \\\n",
      "0           0  271675  q-bio-QM           138   \n",
      "1           1  412276   hep-ph-            68   \n",
      "\n",
      "                                            abstract  \\\n",
      "0    Bacteria are often exposed to multiple stimu...   \n",
      "1    Accurate knowledge of the thermodynamic prop...   \n",
      "\n",
      "                                     Abstract_Parsed  \n",
      "0    bacteria  often exposed  multiple stimuli  c...  \n",
      "1    accurate knowledge   thermodynamic propertie...  \n",
      "==================================================================\n"
     ]
    }
   ],
   "source": [
    "from nltk.corpus import stopwords\n",
    "import re\n",
    "import pandas as pd\n",
    "Chunksize =200000\n",
    "for chunk in pd.read_csv('cleaned_data.csv', chunksize=Chunksize): #cleaned_data.csv is the preprocessed dataset.\n",
    "    print(chunk.shape)\n",
    "    print(\"=\"*66)\n",
    "    print(chunk.head(2))\n",
    "    print(\"=\"*66)\n",
    "    break\n",
    "from sklearn.feature_extraction.text import CountVectorizer, TfidfVectorizer\n",
    "from sklearn.metrics import accuracy_score"
   ]
  },
  {
   "cell_type": "code",
   "execution_count": 2,
   "id": "03495b9a",
   "metadata": {},
   "outputs": [
    {
     "data": {
      "text/html": [
       "<div>\n",
       "<style scoped>\n",
       "    .dataframe tbody tr th:only-of-type {\n",
       "        vertical-align: middle;\n",
       "    }\n",
       "\n",
       "    .dataframe tbody tr th {\n",
       "        vertical-align: top;\n",
       "    }\n",
       "\n",
       "    .dataframe thead th {\n",
       "        text-align: right;\n",
       "    }\n",
       "</style>\n",
       "<table border=\"1\" class=\"dataframe\">\n",
       "  <thead>\n",
       "    <tr style=\"text-align: right;\">\n",
       "      <th></th>\n",
       "      <th>Unnamed: 0</th>\n",
       "      <th>id</th>\n",
       "      <th>category</th>\n",
       "      <th>category_num</th>\n",
       "      <th>abstract</th>\n",
       "      <th>Abstract_Parsed</th>\n",
       "    </tr>\n",
       "  </thead>\n",
       "  <tbody>\n",
       "    <tr>\n",
       "      <th>0</th>\n",
       "      <td>0</td>\n",
       "      <td>271675</td>\n",
       "      <td>q-bio-QM</td>\n",
       "      <td>138</td>\n",
       "      <td>Bacteria are often exposed to multiple stimu...</td>\n",
       "      <td>bacteria  often exposed  multiple stimuli  c...</td>\n",
       "    </tr>\n",
       "    <tr>\n",
       "      <th>1</th>\n",
       "      <td>1</td>\n",
       "      <td>412276</td>\n",
       "      <td>hep-ph-</td>\n",
       "      <td>68</td>\n",
       "      <td>Accurate knowledge of the thermodynamic prop...</td>\n",
       "      <td>accurate knowledge   thermodynamic propertie...</td>\n",
       "    </tr>\n",
       "    <tr>\n",
       "      <th>2</th>\n",
       "      <td>2</td>\n",
       "      <td>256956</td>\n",
       "      <td>astro-ph-SR</td>\n",
       "      <td>7</td>\n",
       "      <td>The largest X9.3 solar flare in solar cycle ...</td>\n",
       "      <td>largest x93 solar flare  solar cycle 24   p...</td>\n",
       "    </tr>\n",
       "    <tr>\n",
       "      <th>3</th>\n",
       "      <td>3</td>\n",
       "      <td>427612</td>\n",
       "      <td>math-PR</td>\n",
       "      <td>93</td>\n",
       "      <td>We say that a random integer variable $X$ is...</td>\n",
       "      <td>say   random integer variable $x$  monotone...</td>\n",
       "    </tr>\n",
       "    <tr>\n",
       "      <th>4</th>\n",
       "      <td>4</td>\n",
       "      <td>113852</td>\n",
       "      <td>math-CO</td>\n",
       "      <td>76</td>\n",
       "      <td>We derive a formula expressing the joint dis...</td>\n",
       "      <td>derive  formula expressing  joint distribut...</td>\n",
       "    </tr>\n",
       "  </tbody>\n",
       "</table>\n",
       "</div>"
      ],
      "text/plain": [
       "   Unnamed: 0      id     category  category_num  \\\n",
       "0           0  271675     q-bio-QM           138   \n",
       "1           1  412276      hep-ph-            68   \n",
       "2           2  256956  astro-ph-SR             7   \n",
       "3           3  427612      math-PR            93   \n",
       "4           4  113852      math-CO            76   \n",
       "\n",
       "                                            abstract  \\\n",
       "0    Bacteria are often exposed to multiple stimu...   \n",
       "1    Accurate knowledge of the thermodynamic prop...   \n",
       "2    The largest X9.3 solar flare in solar cycle ...   \n",
       "3    We say that a random integer variable $X$ is...   \n",
       "4    We derive a formula expressing the joint dis...   \n",
       "\n",
       "                                     Abstract_Parsed  \n",
       "0    bacteria  often exposed  multiple stimuli  c...  \n",
       "1    accurate knowledge   thermodynamic propertie...  \n",
       "2     largest x93 solar flare  solar cycle 24   p...  \n",
       "3     say   random integer variable $x$  monotone...  \n",
       "4     derive  formula expressing  joint distribut...  "
      ]
     },
     "execution_count": 2,
     "metadata": {},
     "output_type": "execute_result"
    }
   ],
   "source": [
    "chunk.head()"
   ]
  },
  {
   "cell_type": "code",
   "execution_count": 3,
   "id": "75714c02",
   "metadata": {},
   "outputs": [
    {
     "data": {
      "text/plain": [
       "155"
      ]
     },
     "execution_count": 3,
     "metadata": {},
     "output_type": "execute_result"
    }
   ],
   "source": [
    "#unique categories among the selected chunk\n",
    "chunk.category.nunique()"
   ]
  },
  {
   "cell_type": "code",
   "execution_count": 4,
   "id": "0bfcf068",
   "metadata": {},
   "outputs": [],
   "source": [
    "#split data \n",
    "from sklearn.model_selection import train_test_split\n",
    "X = chunk.Abstract_Parsed\n",
    "y = chunk.category\n",
    "X_train, X_test, y_train, y_test = train_test_split(X, y, test_size=0.3, random_state=42)"
   ]
  },
  {
   "cell_type": "code",
   "execution_count": 5,
   "id": "efe95763",
   "metadata": {},
   "outputs": [
    {
     "data": {
      "text/plain": [
       "((140000,), (60000,), (140000,), (60000,))"
      ]
     },
     "execution_count": 5,
     "metadata": {},
     "output_type": "execute_result"
    }
   ],
   "source": [
    "X_train.shape,X_test.shape,y_train.shape,y_test.shape"
   ]
  },
  {
   "cell_type": "code",
   "execution_count": 6,
   "id": "1be58ba6",
   "metadata": {},
   "outputs": [
    {
     "data": {
      "text/plain": [
       "21269         performed  $^{125}$te-nuclear magnetic res...\n",
       "187660      traditional motion planning approaches  mult...\n",
       "774          employ physics-informed neural networks (pi...\n",
       "184577       influence  high-enthalpy effects  hypersoni...\n",
       "37127       recent nlp studies reveal  substantial lingu...\n",
       "Name: Abstract_Parsed, dtype: object"
      ]
     },
     "execution_count": 6,
     "metadata": {},
     "output_type": "execute_result"
    }
   ],
   "source": [
    "X_train.head()"
   ]
  },
  {
   "cell_type": "markdown",
   "id": "9fd6ed09",
   "metadata": {},
   "source": [
    "# Tfid Vectorization "
   ]
  },
  {
   "cell_type": "code",
   "execution_count": 7,
   "id": "edea96bb",
   "metadata": {},
   "outputs": [],
   "source": [
    "from sklearn.feature_extraction.text import TfidfVectorizer\n",
    "from sklearn.ensemble import GradientBoostingClassifier\n",
    "from sklearn.linear_model import LogisticRegression\n",
    "from sklearn.pipeline import Pipeline\n",
    "\n",
    "ngram_range = (1,2) #both unigrams and bigrams \n",
    "min_df = 1\n",
    "max_df = 100\n",
    "max_features = 1000\n",
    "tfidf = TfidfVectorizer(encoding='utf-8',\n",
    "                        ngram_range=ngram_range,\n",
    "                        stop_words=None,\n",
    "                        lowercase=False,\n",
    "                        max_df=max_df,\n",
    "                        min_df=min_df,\n",
    "                        max_features=max_features,\n",
    "                        norm='l2',\n",
    "                        sublinear_tf=True)"
   ]
  },
  {
   "cell_type": "markdown",
   "id": "2f928134",
   "metadata": {},
   "source": [
    "# Naive Bayes"
   ]
  },
  {
   "cell_type": "code",
   "execution_count": 8,
   "id": "1ffaad16",
   "metadata": {},
   "outputs": [
    {
     "name": "stdout",
     "output_type": "stream",
     "text": [
      "accuracy 0.34896666666666665\n"
     ]
    }
   ],
   "source": [
    "##naive bias\n",
    "from sklearn.naive_bayes import MultinomialNB\n",
    "from sklearn.pipeline import Pipeline\n",
    "from sklearn.feature_extraction.text import TfidfTransformer\n",
    "\n",
    "nb = Pipeline([('vect', CountVectorizer()),\n",
    "               ('tfidf', TfidfTransformer()),\n",
    "               ('clf', MultinomialNB()),\n",
    "              ])\n",
    "modelnb = nb.fit(X_train, y_train)\n",
    "\n",
    "y_pred = nb.predict(X_test)\n",
    "\n",
    "print('accuracy %s' % accuracy_score(y_pred, y_test))"
   ]
  },
  {
   "cell_type": "markdown",
   "id": "25162480",
   "metadata": {},
   "source": [
    "# Logistic Regression"
   ]
  },
  {
   "cell_type": "code",
   "execution_count": 9,
   "id": "a06c8320",
   "metadata": {},
   "outputs": [
    {
     "name": "stderr",
     "output_type": "stream",
     "text": [
      "c:\\users\\nyach\\appdata\\local\\programs\\python\\python38\\lib\\site-packages\\sklearn\\linear_model\\_logistic.py:814: ConvergenceWarning: lbfgs failed to converge (status=1):\n",
      "STOP: TOTAL NO. of ITERATIONS REACHED LIMIT.\n",
      "\n",
      "Increase the number of iterations (max_iter) or scale the data as shown in:\n",
      "    https://scikit-learn.org/stable/modules/preprocessing.html\n",
      "Please also refer to the documentation for alternative solver options:\n",
      "    https://scikit-learn.org/stable/modules/linear_model.html#logistic-regression\n",
      "  n_iter_i = _check_optimize_result(\n"
     ]
    },
    {
     "name": "stdout",
     "output_type": "stream",
     "text": [
      "accuracy 0.64045\n"
     ]
    }
   ],
   "source": [
    "##logistic regression\n",
    "from sklearn.feature_extraction.text import TfidfTransformer\n",
    "from sklearn.preprocessing import StandardScaler\n",
    "from sklearn.linear_model import LogisticRegression\n",
    "\n",
    "\n",
    "logreg = Pipeline([('vect', CountVectorizer()),\n",
    "                ('tfidf', TfidfTransformer()),\n",
    "                ('clf', LogisticRegression(n_jobs=1, C=1e5)),\n",
    "               ])\n",
    "model_logreg = logreg.fit(X_train, y_train)\n",
    "\n",
    "\n",
    "\n",
    "y_pred = logreg.predict(X_test)\n",
    "\n",
    "print('accuracy %s' % accuracy_score(y_pred, y_test))\n"
   ]
  },
  {
   "cell_type": "markdown",
   "id": "8363e586",
   "metadata": {},
   "source": [
    "# Linear SVM "
   ]
  },
  {
   "cell_type": "code",
   "execution_count": 10,
   "id": "8bf18579",
   "metadata": {},
   "outputs": [
    {
     "name": "stdout",
     "output_type": "stream",
     "text": [
      "accuracy 0.5885333333333334\n"
     ]
    }
   ],
   "source": [
    "#linear svm\n",
    "from sklearn.linear_model import SGDClassifier\n",
    "\n",
    "sgd = Pipeline([('vect', CountVectorizer()),\n",
    "                ('tfidf', TfidfTransformer()),\n",
    "                ('clf', SGDClassifier(loss='hinge', penalty='l2',alpha=1e-3, random_state=42, max_iter=5, tol=None)),\n",
    "               ])\n",
    "model_svm= sgd.fit(X_train, y_train)\n",
    "\n",
    "y_pred = sgd.predict(X_test)\n",
    "\n",
    "print('accuracy %s' % accuracy_score(y_pred, y_test))"
   ]
  },
  {
   "cell_type": "markdown",
   "id": "f9a9511f",
   "metadata": {},
   "source": [
    "# Prediction"
   ]
  },
  {
   "cell_type": "code",
   "execution_count": 11,
   "id": "e828210e",
   "metadata": {},
   "outputs": [],
   "source": [
    "#read test dataset\n",
    "df_test = pd.read_csv('test (1).csv')"
   ]
  },
  {
   "cell_type": "code",
   "execution_count": 12,
   "id": "a8b0f131",
   "metadata": {},
   "outputs": [],
   "source": [
    "#make a list of abstract column of test dataset\n",
    "test_list = list(df_test['abstract'])"
   ]
  },
  {
   "cell_type": "code",
   "execution_count": 13,
   "id": "c3e31b4a",
   "metadata": {},
   "outputs": [],
   "source": [
    "category_num = []"
   ]
  },
  {
   "cell_type": "code",
   "execution_count": 14,
   "id": "2f35106a",
   "metadata": {},
   "outputs": [],
   "source": [
    "\"\"\"for all abstracts; using the model with highest accuracy i.e logistic regression for the given dataset\n",
    "   to predict the categories that respective abstract may fall into\"\"\"\n",
    "for i in test_list:\n",
    "    new_abstract=i\n",
    "    cat = model_logreg.predict([repr(new_abstract)])\n",
    "    category_num.append(cat)"
   ]
  },
  {
   "cell_type": "code",
   "execution_count": 15,
   "id": "7d03f98a",
   "metadata": {},
   "outputs": [],
   "source": [
    "#list into dataframe\n",
    "prediction= pd.DataFrame(category_num)"
   ]
  },
  {
   "cell_type": "code",
   "execution_count": 17,
   "id": "f9778690",
   "metadata": {},
   "outputs": [
    {
     "data": {
      "text/html": [
       "<div>\n",
       "<style scoped>\n",
       "    .dataframe tbody tr th:only-of-type {\n",
       "        vertical-align: middle;\n",
       "    }\n",
       "\n",
       "    .dataframe tbody tr th {\n",
       "        vertical-align: top;\n",
       "    }\n",
       "\n",
       "    .dataframe thead th {\n",
       "        text-align: right;\n",
       "    }\n",
       "</style>\n",
       "<table border=\"1\" class=\"dataframe\">\n",
       "  <thead>\n",
       "    <tr style=\"text-align: right;\">\n",
       "      <th></th>\n",
       "      <th>0</th>\n",
       "    </tr>\n",
       "  </thead>\n",
       "  <tbody>\n",
       "    <tr>\n",
       "      <th>0</th>\n",
       "      <td>cs-CV</td>\n",
       "    </tr>\n",
       "    <tr>\n",
       "      <th>1</th>\n",
       "      <td>cs-SE</td>\n",
       "    </tr>\n",
       "    <tr>\n",
       "      <th>2</th>\n",
       "      <td>hep-ph-</td>\n",
       "    </tr>\n",
       "    <tr>\n",
       "      <th>3</th>\n",
       "      <td>physics-ed-ph</td>\n",
       "    </tr>\n",
       "    <tr>\n",
       "      <th>4</th>\n",
       "      <td>cs-LG</td>\n",
       "    </tr>\n",
       "  </tbody>\n",
       "</table>\n",
       "</div>"
      ],
      "text/plain": [
       "               0\n",
       "0          cs-CV\n",
       "1          cs-SE\n",
       "2        hep-ph-\n",
       "3  physics-ed-ph\n",
       "4          cs-LG"
      ]
     },
     "execution_count": 17,
     "metadata": {},
     "output_type": "execute_result"
    }
   ],
   "source": [
    "prediction.head()"
   ]
  },
  {
   "cell_type": "code",
   "execution_count": 18,
   "id": "02069598",
   "metadata": {},
   "outputs": [],
   "source": [
    "prediction.columns= [\"category\"]"
   ]
  },
  {
   "cell_type": "code",
   "execution_count": 19,
   "id": "bc484d05",
   "metadata": {},
   "outputs": [],
   "source": [
    "#labels\n",
    "label_codes={'alg-geom-': 0,\n",
    "  'astro-ph-': 1,\n",
    "  'astro-ph-CO': 2,\n",
    "  'astro-ph-EP': 3,\n",
    "  'astro-ph-GA': 4,\n",
    "  'astro-ph-HE': 5,\n",
    "  'astro-ph-IM': 6,\n",
    "  'astro-ph-SR': 7,\n",
    "  'cond-mat-dis-nn': 8,\n",
    "  'cond-mat-mes-hall': 9,\n",
    "  'cond-mat-mtrl-sci': 10,\n",
    "  'cond-mat-other': 11,\n",
    "  'cond-mat-quant-gas': 12,\n",
    "  'cond-mat-soft': 13,\n",
    "  'cond-mat-stat-mech': 14,\n",
    "  'cond-mat-str-el': 15,\n",
    "  'cond-mat-supr-con': 16,\n",
    "  'cs-': 17,\n",
    "  'cs-AI': 18,\n",
    "  'cs-AR': 19,\n",
    "  'cs-CC': 20,\n",
    "  'cs-CE': 21,\n",
    "  'cs-CG': 22,\n",
    "  'cs-CL': 23,\n",
    "  'cs-CR': 24,\n",
    "  'cs-CV': 25,\n",
    "  'cs-CY': 26,\n",
    "  'cs-DB': 27,\n",
    "  'cs-DC': 28,\n",
    "  'cs-DL': 29,\n",
    "  'cs-DM': 30,\n",
    "  'cs-DS': 31,\n",
    "  'cs-ET': 32,\n",
    "  'cs-FL': 33,\n",
    "  'cs-GL': 34,\n",
    "  'cs-GR': 35,\n",
    "  'cs-GT': 36,\n",
    "  'cs-HC': 37,\n",
    "  'cs-IR': 38,\n",
    "  'cs-IT': 39,\n",
    "  'cs-LG': 40,\n",
    "  'cs-LO': 41,\n",
    "  'cs-MA': 42,\n",
    "  'cs-MM': 43,\n",
    "  'cs-MS': 44,\n",
    "  'cs-NE': 45,\n",
    "  'cs-NI': 46,\n",
    "  'cs-OH': 47,\n",
    "  'cs-OS': 48,\n",
    "  'cs-PF': 49,\n",
    "  'cs-PL': 50,\n",
    "  'cs-RO': 51,\n",
    "  'cs-SC': 52,\n",
    "  'cs-SD': 53,\n",
    "  'cs-SE': 54,\n",
    "  'cs-SI': 55,\n",
    "  'cs-SY': 56,\n",
    "  'econ-EM': 57,\n",
    "  'econ-GN': 58,\n",
    "  'econ-TH': 59,\n",
    "  'eess-AS': 60,\n",
    "  'eess-IV': 61,\n",
    "  'eess-SP': 62,\n",
    "  'eess-SY': 63,\n",
    "  'funct-an-': 64,\n",
    "  'gr-qc-': 65,\n",
    "  'hep-ex-': 66,\n",
    "  'hep-lat-': 67,\n",
    "  'hep-ph-': 68,\n",
    "  'hep-th-': 69,\n",
    "  'math-': 70,\n",
    "  'math-AC': 71,\n",
    "  'math-AG': 72,\n",
    "  'math-AP': 73,\n",
    "  'math-AT': 74,\n",
    "  'math-CA': 75,\n",
    "  'math-CO': 76,\n",
    "  'math-CT': 77,\n",
    "  'math-CV': 78,\n",
    "  'math-DG': 79,\n",
    "  'math-DS': 80,\n",
    "  'math-FA': 81,\n",
    "  'math-GM': 82,\n",
    "  'math-GN': 83,\n",
    "  'math-GR': 84,\n",
    "  'math-GT': 85,\n",
    "  'math-HO': 86,\n",
    "  'math-KT': 87,\n",
    "  'math-LO': 88,\n",
    "  'math-MG': 89,\n",
    "  'math-NT': 90,\n",
    "  'math-OA': 91,\n",
    "  'math-OC': 92,\n",
    "  'math-PR': 93,\n",
    "  'math-QA': 94,\n",
    "  'math-RA': 95,\n",
    "  'math-RT': 96,\n",
    "  'math-SG': 97,\n",
    "  'math-SP': 98,\n",
    "  'math-ST': 99,\n",
    "  'math-ph-': 100,\n",
    "  'nlin-AO': 101,\n",
    "  'nlin-CD': 102,\n",
    "  'nlin-CG': 103,\n",
    "  'nlin-PS': 104,\n",
    "  'nlin-SI': 105,\n",
    "  'nucl-ex-': 106,\n",
    "  'nucl-th-': 107,\n",
    "  'physics-acc-ph': 108,\n",
    "  'physics-ao-ph': 109,\n",
    "  'physics-app-ph': 110,\n",
    "  'physics-atm-clus': 111,\n",
    "  'physics-atom-ph': 112,\n",
    "  'physics-bio-ph': 113,\n",
    "  'physics-chem-ph': 114,\n",
    "  'physics-class-ph': 115,\n",
    "  'physics-comp-ph': 116,\n",
    "  'physics-data-an': 117,\n",
    "  'physics-ed-ph': 118,\n",
    "  'physics-flu-dyn': 119,\n",
    "  'physics-gen-ph': 120,\n",
    "  'physics-geo-ph': 121,\n",
    "  'physics-hist-ph': 122,\n",
    "  'physics-ins-det': 123,\n",
    "  'physics-med-ph': 124,\n",
    "  'physics-optics': 125,\n",
    "  'physics-plasm-ph': 126,\n",
    "  'physics-pop-ph': 127,\n",
    "  'physics-soc-ph': 128,\n",
    "  'physics-space-ph': 129,\n",
    "  'q-alg-': 130,\n",
    "  'q-bio-BM': 131,\n",
    "  'q-bio-CB': 132,\n",
    "  'q-bio-GN': 133,\n",
    "  'q-bio-MN': 134,\n",
    "  'q-bio-NC': 135,\n",
    "  'q-bio-OT': 136,\n",
    "  'q-bio-PE': 137,\n",
    "  'q-bio-QM': 138,\n",
    "  'q-bio-SC': 139,\n",
    "  'q-bio-TO': 140,\n",
    "  'q-fin-CP': 141,\n",
    "  'q-fin-EC': 142,\n",
    "  'q-fin-GN': 143,\n",
    "  'q-fin-MF': 144,\n",
    "  'q-fin-PM': 145,\n",
    "  'q-fin-PR': 146,\n",
    "  'q-fin-RM': 147,\n",
    "  'q-fin-ST': 148,\n",
    "  'q-fin-TR': 149,\n",
    "  'quant-ph-': 150,\n",
    "  'stat-AP': 151,\n",
    "  'stat-CO': 152,\n",
    "  'stat-ME': 153,\n",
    "  'stat-ML': 154,\n",
    "  'stat-OT': 155}"
   ]
  },
  {
   "cell_type": "code",
   "execution_count": 20,
   "id": "57cf640a",
   "metadata": {},
   "outputs": [],
   "source": [
    "# Category mapping\n",
    "\n",
    "prediction['category_num'] =prediction['category']\n",
    "prediction = prediction.replace({'category_num':label_codes}) #replacing categories with their respective num. "
   ]
  },
  {
   "cell_type": "code",
   "execution_count": 21,
   "id": "b5d94f36",
   "metadata": {},
   "outputs": [
    {
     "data": {
      "text/html": [
       "<div>\n",
       "<style scoped>\n",
       "    .dataframe tbody tr th:only-of-type {\n",
       "        vertical-align: middle;\n",
       "    }\n",
       "\n",
       "    .dataframe tbody tr th {\n",
       "        vertical-align: top;\n",
       "    }\n",
       "\n",
       "    .dataframe thead th {\n",
       "        text-align: right;\n",
       "    }\n",
       "</style>\n",
       "<table border=\"1\" class=\"dataframe\">\n",
       "  <thead>\n",
       "    <tr style=\"text-align: right;\">\n",
       "      <th></th>\n",
       "      <th>category</th>\n",
       "      <th>category_num</th>\n",
       "    </tr>\n",
       "  </thead>\n",
       "  <tbody>\n",
       "    <tr>\n",
       "      <th>0</th>\n",
       "      <td>cs-CV</td>\n",
       "      <td>25</td>\n",
       "    </tr>\n",
       "    <tr>\n",
       "      <th>1</th>\n",
       "      <td>cs-SE</td>\n",
       "      <td>54</td>\n",
       "    </tr>\n",
       "    <tr>\n",
       "      <th>2</th>\n",
       "      <td>hep-ph-</td>\n",
       "      <td>68</td>\n",
       "    </tr>\n",
       "    <tr>\n",
       "      <th>3</th>\n",
       "      <td>physics-ed-ph</td>\n",
       "      <td>118</td>\n",
       "    </tr>\n",
       "    <tr>\n",
       "      <th>4</th>\n",
       "      <td>cs-LG</td>\n",
       "      <td>40</td>\n",
       "    </tr>\n",
       "  </tbody>\n",
       "</table>\n",
       "</div>"
      ],
      "text/plain": [
       "        category  category_num\n",
       "0          cs-CV            25\n",
       "1          cs-SE            54\n",
       "2        hep-ph-            68\n",
       "3  physics-ed-ph           118\n",
       "4          cs-LG            40"
      ]
     },
     "execution_count": 21,
     "metadata": {},
     "output_type": "execute_result"
    }
   ],
   "source": [
    "prediction.head()"
   ]
  },
  {
   "cell_type": "markdown",
   "id": "bf7876e8",
   "metadata": {},
   "source": [
    "# Output"
   ]
  },
  {
   "cell_type": "code",
   "id": "6283e67f",
   "metadata": {},
   "source": [
    "For the given dataset, Naive Bayes = 34.89% accuracy \n",
    "                       Logistic Regression = 64.045% accuracy\n",
    "                       Linear SVM = 58.85% accuracy\n",
    "                       \n",
    "Hence, as logistic regression gave the highest accuracy, predicting categories, then labeling/ mapping them with their respective category numbers using logistic regression. The output is hence predicited only from logistic regression model."
   ]
  },
  {
   "cell_type": "code",
   "execution_count": 22,
   "id": "c4f3fd6f",
   "metadata": {},
   "outputs": [],
   "source": [
    "sample = pd.read_csv(\"sample.csv\")"
   ]
  },
  {
   "cell_type": "code",
   "execution_count": 23,
   "id": "a7e6755b",
   "metadata": {},
   "outputs": [],
   "source": [
    "sample.drop(['category_num'], axis='columns', inplace=True)"
   ]
  },
  {
   "cell_type": "code",
   "execution_count": 27,
   "id": "61267f3f",
   "metadata": {},
   "outputs": [
    {
     "data": {
      "text/html": [
       "<div>\n",
       "<style scoped>\n",
       "    .dataframe tbody tr th:only-of-type {\n",
       "        vertical-align: middle;\n",
       "    }\n",
       "\n",
       "    .dataframe tbody tr th {\n",
       "        vertical-align: top;\n",
       "    }\n",
       "\n",
       "    .dataframe thead th {\n",
       "        text-align: right;\n",
       "    }\n",
       "</style>\n",
       "<table border=\"1\" class=\"dataframe\">\n",
       "  <thead>\n",
       "    <tr style=\"text-align: right;\">\n",
       "      <th></th>\n",
       "      <th>id</th>\n",
       "      <th>category_num</th>\n",
       "    </tr>\n",
       "  </thead>\n",
       "  <tbody>\n",
       "    <tr>\n",
       "      <th>0</th>\n",
       "      <td>430065</td>\n",
       "      <td>25</td>\n",
       "    </tr>\n",
       "    <tr>\n",
       "      <th>1</th>\n",
       "      <td>75226</td>\n",
       "      <td>54</td>\n",
       "    </tr>\n",
       "    <tr>\n",
       "      <th>2</th>\n",
       "      <td>301990</td>\n",
       "      <td>68</td>\n",
       "    </tr>\n",
       "    <tr>\n",
       "      <th>3</th>\n",
       "      <td>301001</td>\n",
       "      <td>118</td>\n",
       "    </tr>\n",
       "    <tr>\n",
       "      <th>4</th>\n",
       "      <td>280179</td>\n",
       "      <td>40</td>\n",
       "    </tr>\n",
       "  </tbody>\n",
       "</table>\n",
       "</div>"
      ],
      "text/plain": [
       "       id  category_num\n",
       "0  430065            25\n",
       "1   75226            54\n",
       "2  301990            68\n",
       "3  301001           118\n",
       "4  280179            40"
      ]
     },
     "execution_count": 27,
     "metadata": {},
     "output_type": "execute_result"
    }
   ],
   "source": [
    "sample.head()"
   ]
  },
  {
   "cell_type": "code",
   "execution_count": 25,
   "id": "27187472",
   "metadata": {},
   "outputs": [],
   "source": [
    "sample[\"category_num\"] = prediction[\"category_num\"]"
   ]
  },
  {
   "cell_type": "code",
   "execution_count": 28,
   "id": "6aa83927",
   "metadata": {},
   "outputs": [],
   "source": [
    "sample.to_csv(\"solution(final).csv\")"
   ]
  }
 ],
 "metadata": {
  "kernelspec": {
   "display_name": "Python 3 (ipykernel)",
   "language": "python",
   "name": "python3"
  },
  "language_info": {
   "codemirror_mode": {
    "name": "ipython",
    "version": 3
   },
   "file_extension": ".py",
   "mimetype": "text/x-python",
   "name": "python",
   "nbconvert_exporter": "python",
   "pygments_lexer": "ipython3",
   "version": "3.8.8"
  }
 },
 "nbformat": 4,
 "nbformat_minor": 5
}
